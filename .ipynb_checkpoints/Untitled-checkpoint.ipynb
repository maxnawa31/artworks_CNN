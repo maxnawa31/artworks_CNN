{
 "cells": [
  {
   "cell_type": "code",
   "execution_count": 2,
   "metadata": {},
   "outputs": [],
   "source": [
    "import numpy as np\n",
    "import pandas as pd\n",
    "import os\n",
    "import random\n",
    "import matplotlib.pyplot as plt\n",
    "import torchvision.transforms as T"
   ]
  },
  {
   "cell_type": "code",
   "execution_count": 18,
   "metadata": {},
   "outputs": [
    {
     "data": {
      "text/html": [
       "<div>\n",
       "<style scoped>\n",
       "    .dataframe tbody tr th:only-of-type {\n",
       "        vertical-align: middle;\n",
       "    }\n",
       "\n",
       "    .dataframe tbody tr th {\n",
       "        vertical-align: top;\n",
       "    }\n",
       "\n",
       "    .dataframe thead th {\n",
       "        text-align: right;\n",
       "    }\n",
       "</style>\n",
       "<table border=\"1\" class=\"dataframe\">\n",
       "  <thead>\n",
       "    <tr style=\"text-align: right;\">\n",
       "      <th></th>\n",
       "      <th>id</th>\n",
       "      <th>name</th>\n",
       "      <th>years</th>\n",
       "      <th>genre</th>\n",
       "      <th>nationality</th>\n",
       "      <th>bio</th>\n",
       "      <th>wikipedia</th>\n",
       "      <th>paintings</th>\n",
       "    </tr>\n",
       "  </thead>\n",
       "  <tbody>\n",
       "    <tr>\n",
       "      <th>0</th>\n",
       "      <td>0</td>\n",
       "      <td>Amedeo Modigliani</td>\n",
       "      <td>1884 - 1920</td>\n",
       "      <td>Expressionism</td>\n",
       "      <td>Italian</td>\n",
       "      <td>Amedeo Clemente Modigliani (Italian pronunciat...</td>\n",
       "      <td>http://en.wikipedia.org/wiki/Amedeo_Modigliani</td>\n",
       "      <td>193</td>\n",
       "    </tr>\n",
       "    <tr>\n",
       "      <th>1</th>\n",
       "      <td>1</td>\n",
       "      <td>Vasiliy Kandinskiy</td>\n",
       "      <td>1866 - 1944</td>\n",
       "      <td>Expressionism,Abstractionism</td>\n",
       "      <td>Russian</td>\n",
       "      <td>Wassily Wassilyevich Kandinsky (Russian: Васи́...</td>\n",
       "      <td>http://en.wikipedia.org/wiki/Wassily_Kandinsky</td>\n",
       "      <td>88</td>\n",
       "    </tr>\n",
       "    <tr>\n",
       "      <th>2</th>\n",
       "      <td>2</td>\n",
       "      <td>Diego Rivera</td>\n",
       "      <td>1886 - 1957</td>\n",
       "      <td>Social Realism,Muralism</td>\n",
       "      <td>Mexican</td>\n",
       "      <td>Diego María de la Concepción Juan Nepomuceno E...</td>\n",
       "      <td>http://en.wikipedia.org/wiki/Diego_Rivera</td>\n",
       "      <td>70</td>\n",
       "    </tr>\n",
       "    <tr>\n",
       "      <th>3</th>\n",
       "      <td>3</td>\n",
       "      <td>Claude Monet</td>\n",
       "      <td>1840 - 1926</td>\n",
       "      <td>Impressionism</td>\n",
       "      <td>French</td>\n",
       "      <td>Oscar-Claude Monet (; French: [klod mɔnɛ]; 14 ...</td>\n",
       "      <td>http://en.wikipedia.org/wiki/Claude_Monet</td>\n",
       "      <td>73</td>\n",
       "    </tr>\n",
       "    <tr>\n",
       "      <th>4</th>\n",
       "      <td>4</td>\n",
       "      <td>Rene Magritte</td>\n",
       "      <td>1898 - 1967</td>\n",
       "      <td>Surrealism,Impressionism</td>\n",
       "      <td>Belgian</td>\n",
       "      <td>René François Ghislain Magritte (French: [ʁəne...</td>\n",
       "      <td>http://en.wikipedia.org/wiki/René_Magritte</td>\n",
       "      <td>194</td>\n",
       "    </tr>\n",
       "  </tbody>\n",
       "</table>\n",
       "</div>"
      ],
      "text/plain": [
       "   id                name        years                         genre  \\\n",
       "0   0   Amedeo Modigliani  1884 - 1920                 Expressionism   \n",
       "1   1  Vasiliy Kandinskiy  1866 - 1944  Expressionism,Abstractionism   \n",
       "2   2        Diego Rivera  1886 - 1957       Social Realism,Muralism   \n",
       "3   3        Claude Monet  1840 - 1926                 Impressionism   \n",
       "4   4       Rene Magritte  1898 - 1967      Surrealism,Impressionism   \n",
       "\n",
       "  nationality                                                bio  \\\n",
       "0     Italian  Amedeo Clemente Modigliani (Italian pronunciat...   \n",
       "1     Russian  Wassily Wassilyevich Kandinsky (Russian: Васи́...   \n",
       "2     Mexican  Diego María de la Concepción Juan Nepomuceno E...   \n",
       "3      French  Oscar-Claude Monet (; French: [klod mɔnɛ]; 14 ...   \n",
       "4     Belgian  René François Ghislain Magritte (French: [ʁəne...   \n",
       "\n",
       "                                        wikipedia  paintings  \n",
       "0  http://en.wikipedia.org/wiki/Amedeo_Modigliani        193  \n",
       "1  http://en.wikipedia.org/wiki/Wassily_Kandinsky         88  \n",
       "2       http://en.wikipedia.org/wiki/Diego_Rivera         70  \n",
       "3       http://en.wikipedia.org/wiki/Claude_Monet         73  \n",
       "4      http://en.wikipedia.org/wiki/René_Magritte        194  "
      ]
     },
     "execution_count": 18,
     "metadata": {},
     "output_type": "execute_result"
    }
   ],
   "source": [
    "artists = pd.read_csv('./data/artists.csv')\n",
    "artists.head()"
   ]
  },
  {
   "cell_type": "code",
   "execution_count": 19,
   "metadata": {},
   "outputs": [
    {
     "data": {
      "text/html": [
       "<div>\n",
       "<style scoped>\n",
       "    .dataframe tbody tr th:only-of-type {\n",
       "        vertical-align: middle;\n",
       "    }\n",
       "\n",
       "    .dataframe tbody tr th {\n",
       "        vertical-align: top;\n",
       "    }\n",
       "\n",
       "    .dataframe thead th {\n",
       "        text-align: right;\n",
       "    }\n",
       "</style>\n",
       "<table border=\"1\" class=\"dataframe\">\n",
       "  <thead>\n",
       "    <tr style=\"text-align: right;\">\n",
       "      <th></th>\n",
       "      <th>name</th>\n",
       "      <th>paintings</th>\n",
       "      <th>class_weight</th>\n",
       "    </tr>\n",
       "  </thead>\n",
       "  <tbody>\n",
       "    <tr>\n",
       "      <th>0</th>\n",
       "      <td>Vincent van Gogh</td>\n",
       "      <td>877</td>\n",
       "      <td>0.445631</td>\n",
       "    </tr>\n",
       "    <tr>\n",
       "      <th>1</th>\n",
       "      <td>Edgar Degas</td>\n",
       "      <td>702</td>\n",
       "      <td>0.556721</td>\n",
       "    </tr>\n",
       "    <tr>\n",
       "      <th>2</th>\n",
       "      <td>Pablo Picasso</td>\n",
       "      <td>439</td>\n",
       "      <td>0.890246</td>\n",
       "    </tr>\n",
       "    <tr>\n",
       "      <th>3</th>\n",
       "      <td>Pierre-Auguste Renoir</td>\n",
       "      <td>336</td>\n",
       "      <td>1.163149</td>\n",
       "    </tr>\n",
       "    <tr>\n",
       "      <th>4</th>\n",
       "      <td>Albrecht Dürer</td>\n",
       "      <td>328</td>\n",
       "      <td>1.191519</td>\n",
       "    </tr>\n",
       "    <tr>\n",
       "      <th>5</th>\n",
       "      <td>Paul Gauguin</td>\n",
       "      <td>311</td>\n",
       "      <td>1.256650</td>\n",
       "    </tr>\n",
       "    <tr>\n",
       "      <th>6</th>\n",
       "      <td>Francisco Goya</td>\n",
       "      <td>291</td>\n",
       "      <td>1.343018</td>\n",
       "    </tr>\n",
       "    <tr>\n",
       "      <th>7</th>\n",
       "      <td>Rembrandt</td>\n",
       "      <td>262</td>\n",
       "      <td>1.491672</td>\n",
       "    </tr>\n",
       "    <tr>\n",
       "      <th>8</th>\n",
       "      <td>Alfred Sisley</td>\n",
       "      <td>259</td>\n",
       "      <td>1.508951</td>\n",
       "    </tr>\n",
       "    <tr>\n",
       "      <th>9</th>\n",
       "      <td>Titian</td>\n",
       "      <td>255</td>\n",
       "      <td>1.532620</td>\n",
       "    </tr>\n",
       "    <tr>\n",
       "      <th>10</th>\n",
       "      <td>Marc Chagall</td>\n",
       "      <td>239</td>\n",
       "      <td>1.635223</td>\n",
       "    </tr>\n",
       "  </tbody>\n",
       "</table>\n",
       "</div>"
      ],
      "text/plain": [
       "                     name  paintings  class_weight\n",
       "0        Vincent van Gogh        877      0.445631\n",
       "1             Edgar Degas        702      0.556721\n",
       "2           Pablo Picasso        439      0.890246\n",
       "3   Pierre-Auguste Renoir        336      1.163149\n",
       "4          Albrecht Dürer        328      1.191519\n",
       "5            Paul Gauguin        311      1.256650\n",
       "6          Francisco Goya        291      1.343018\n",
       "7               Rembrandt        262      1.491672\n",
       "8           Alfred Sisley        259      1.508951\n",
       "9                  Titian        255      1.532620\n",
       "10           Marc Chagall        239      1.635223"
      ]
     },
     "execution_count": 19,
     "metadata": {},
     "output_type": "execute_result"
    }
   ],
   "source": [
    "artists = artists.sort_values(by=['paintings'], ascending=False)\n",
    "artists\n",
    "\n",
    "top_artists = artists[artists['paintings'] >= 200].reset_index()\n",
    "top_artists = top_artists[['name', 'paintings']]\n",
    "top_artists['class_weight'] = top_artists.paintings.sum()/(top_artists.shape[0] * top_artists.paintings)\n",
    "\n",
    "top_artists"
   ]
  },
  {
   "cell_type": "code",
   "execution_count": 20,
   "metadata": {},
   "outputs": [],
   "source": [
    "class_weights = top_artists['class_weight'].to_dict()\n",
    "class_weights\n",
    "\n",
    "updated_name = \"Albrecht_Dürer\".replace(\"_\", \" \")\n",
    "top_artists.iloc[4, 0] = updated_name"
   ]
  },
  {
   "cell_type": "code",
   "execution_count": 21,
   "metadata": {},
   "outputs": [
    {
     "name": "stdout",
     "output_type": "stream",
     "text": [
      "Found ----> data/images/images/Vincent_van_Gogh\n",
      "Found ----> data/images/images/Edgar_Degas\n",
      "Found ----> data/images/images/Pablo_Picasso\n",
      "Found ----> data/images/images/Pierre-Auguste_Renoir\n",
      "Found ----> data/images/images/Albrecht_Dürer\n",
      "Found ----> data/images/images/Paul_Gauguin\n",
      "Found ----> data/images/images/Francisco_Goya\n",
      "Found ----> data/images/images/Rembrandt\n",
      "Found ----> data/images/images/Alfred_Sisley\n",
      "Found ----> data/images/images/Titian\n",
      "Found ----> data/images/images/Marc_Chagall\n"
     ]
    }
   ],
   "source": [
    "images_dir = os.path.join('data/images/images')\n",
    "artists_dirs = os.listdir(images_dir)\n",
    "top_artists_name = top_artists['name'].str.replace(' ', \"_\").values\n",
    "for name in top_artists_name:\n",
    "    if os.path.exists(os.path.join(images_dir, name)):\n",
    "        print(\"Found ---->\", os.path.join(images_dir, name))\n",
    "    else:\n",
    "        print(\"Did not find --->\", os.path.join(images_dir,name))"
   ]
  },
  {
   "cell_type": "code",
   "execution_count": null,
   "metadata": {},
   "outputs": [],
   "source": [
    "n = 5\n",
    "fig, axes = plt.subplots(1, n, figsize=(20,10))\n",
    "\n",
    "for i in range(n):\n",
    "    random_artist = random.choice(top_artists_name)\n",
    "    random_painting = random.choice(os.listdir(os.path.join(images_dir, random_artist)))\n",
    "    file = os.path.join(images_dir, random_artist, random_painting)\n",
    "    image = plt.imread(file)\n",
    "    axes[i].imshow(image)\n",
    "plt.show()"
   ]
  },
  {
   "cell_type": "code",
   "execution_count": 22,
   "metadata": {},
   "outputs": [],
   "source": [
    "from torchvision.datasets import ImageFolder\n",
    "import torchvision.transforms as T\n",
    "from torch.utils.data import Dataset"
   ]
  },
  {
   "cell_type": "code",
   "execution_count": null,
   "metadata": {},
   "outputs": [],
   "source": [
    "dataset = pd.DataFrame(columns=['file', 'artist'])\n",
    "for i, artist in enumerate(top_artists_name):\n",
    "    for image in os.listdir(os.path.join(images_dir, artist)):\n",
    "        dataset = dataset.append({'file': image, 'artist': i}, ignore_index=True)"
   ]
  },
  {
   "cell_type": "code",
   "execution_count": null,
   "metadata": {},
   "outputs": [],
   "source": [
    "dataset.head()"
   ]
  },
  {
   "cell_type": "code",
   "execution_count": null,
   "metadata": {},
   "outputs": [],
   "source": [
    "# class ArtistsDataset(Dataset):\n",
    "#     def __init__(self, images_dir, classes, transform=None, target_transform=None):\n",
    "#         self.images_dir = images_dir\n",
    "#         self.classes = classes\n",
    "#         self.class_to_idx = self.classes_to_idx(self.classes)\n",
    "#         self.images = self.make_dataset(images_dir)\n",
    "#         self.transform = transform\n",
    "#         self.target_transform = target_transform\n",
    "    \n",
    "#     def __getitem__(self, index):\n",
    "#         path, target = self.images[index]\n",
    "#         img = self.loader(path)\n",
    "#         if self.transform is not None:\n",
    "#             img = self.transform(img)\n",
    "#         if self.target_transform is not None:\n",
    "#             target = self.target_transform(target)\n",
    "        \n",
    "#         return img, target\n",
    "    \n",
    "#     def classes_to_idx(self, classes):\n",
    "#         return {classes[i]: i for i in range(len(classes))}\n",
    "    \n",
    "#     def make_dataset(self, dir):\n",
    "#         images = []\n",
    "#         for target in os.listdir(dir):\n",
    "#             if target in self.class_to_idx:\n",
    "#                 d = os.path.join(dir, target)\n",
    "#                 if not os.path.isdir(d):\n",
    "#                     continue\n",
    "\n",
    "#                 for root, _, fnames in sorted(os.walk(d)):\n",
    "#                     for fname in fnames:\n",
    "#                         path = os.path.join(root,fname)\n",
    "#                         item = (path, self.class_to_idx[target])\n",
    "#                         images.append(item)\n",
    "#         return images\n"
   ]
  },
  {
   "cell_type": "code",
   "execution_count": null,
   "metadata": {},
   "outputs": [],
   "source": [
    "new_dataset = ArtistsDataset(images_dir, top_artists_name)\n",
    "print(len(new_dataset.__ge))"
   ]
  },
  {
   "cell_type": "code",
   "execution_count": 13,
   "metadata": {},
   "outputs": [],
   "source": [
    "transform = T.Compose([T.Resize((100,100)), T.ToTensor()])"
   ]
  },
  {
   "cell_type": "code",
   "execution_count": 16,
   "metadata": {},
   "outputs": [],
   "source": [
    "class ArtistsDataSet(ImageFolder):\n",
    "    def __init__(self, root, transform=None, target_transform=None, custom_classes = None):\n",
    "        self.custom_classes = custom_classes\n",
    "        super().__init__(root, transform, target_transform)\n",
    "        \n",
    "    def _find_classes(self, dir):\n",
    "        if self.custom_classes is not None:\n",
    "            classes = self.custom_classes\n",
    "            class_to_idx = {cls_name: i for i, cls_name in enumerate(classes)}\n",
    "            return classes, class_to_idx"
   ]
  },
  {
   "cell_type": "code",
   "execution_count": 23,
   "metadata": {},
   "outputs": [
    {
     "data": {
      "text/plain": [
       "torch.Size([3, 100, 100])"
      ]
     },
     "execution_count": 23,
     "metadata": {},
     "output_type": "execute_result"
    }
   ],
   "source": [
    "new_dataset = ArtistsDataSet(root=images_dir,transform=transform, custom_classes=top_artists_name)\n",
    "new_dataset.__getitem__(2)[0].shape"
   ]
  },
  {
   "cell_type": "code",
   "execution_count": null,
   "metadata": {},
   "outputs": [],
   "source": [
    "print(new_dataset.__len__())"
   ]
  },
  {
   "cell_type": "code",
   "execution_count": 57,
   "metadata": {},
   "outputs": [],
   "source": [
    "batch_size = 135\n",
    "validation_split = .2\n",
    "shuffle_dataset = True\n",
    "random_seed= 42"
   ]
  },
  {
   "cell_type": "code",
   "execution_count": 58,
   "metadata": {},
   "outputs": [
    {
     "name": "stdout",
     "output_type": "stream",
     "text": [
      "859\n"
     ]
    }
   ],
   "source": [
    "dataset_size = new_dataset.__len__()\n",
    "indices = list(range(dataset_size))\n",
    "split = int(np.floor(validation_split * dataset_size))\n",
    "print(split)"
   ]
  },
  {
   "cell_type": "code",
   "execution_count": 59,
   "metadata": {},
   "outputs": [],
   "source": [
    "if shuffle_dataset :\n",
    "    np.random.seed(random_seed)\n",
    "    np.random.shuffle(indices)\n",
    "train_indices, val_indices = indices[split:], indices[:split]"
   ]
  },
  {
   "cell_type": "code",
   "execution_count": 27,
   "metadata": {},
   "outputs": [],
   "source": [
    "from torch.utils.data.sampler import SubsetRandomSampler\n",
    "from torch.utils.data import DataLoader"
   ]
  },
  {
   "cell_type": "code",
   "execution_count": 60,
   "metadata": {},
   "outputs": [],
   "source": [
    "train_sampler = SubsetRandomSampler(train_indices)\n",
    "valid_sampler = SubsetRandomSampler(val_indices)"
   ]
  },
  {
   "cell_type": "code",
   "execution_count": null,
   "metadata": {},
   "outputs": [],
   "source": []
  },
  {
   "cell_type": "code",
   "execution_count": 61,
   "metadata": {},
   "outputs": [],
   "source": [
    "train_loader = DataLoader(new_dataset,batch_size=batch_size, sampler=train_sampler)\n",
    "validation_loader = DataLoader(new_dataset, batch_size=batch_size, sampler=valid_sampler)"
   ]
  },
  {
   "cell_type": "code",
   "execution_count": null,
   "metadata": {},
   "outputs": [],
   "source": [
    "for i, data in enumerate(train_loader):\n",
    "    print(len(data[1]))\n",
    "    print(data[0].shape)\n",
    "    break"
   ]
  },
  {
   "cell_type": "code",
   "execution_count": 62,
   "metadata": {},
   "outputs": [],
   "source": [
    "import torch\n",
    "import torch.nn as nn\n",
    "import torch.nn.functional as F\n",
    "from tqdm import trange"
   ]
  },
  {
   "cell_type": "code",
   "execution_count": 63,
   "metadata": {},
   "outputs": [],
   "source": [
    "class Net(nn.Module):\n",
    "    def __init__(self):\n",
    "        super(Net,self).__init__()\n",
    "        self.conv1 = nn.Conv2d(3,6,5)\n",
    "        self.conv2 = nn.Conv2d(6,15,5)\n",
    "        self.maxPool = nn.MaxPool2d(2,2)\n",
    "        self.soft = nn.LogSoftmax(dim=1)\n",
    "        self.fc1 = nn.Linear(15*22*22, 120)\n",
    "        self.fc2 = nn.Linear(120, 84)\n",
    "        self.fc3 = nn.Linear(84, 50)\n",
    "        self.fc4 = nn.Linear(50,11)\n",
    "\n",
    "    def forward(self,x):\n",
    "        x = self.maxPool(F.relu(self.conv1(x)))\n",
    "        x = self.maxPool(F.relu(self.conv2(x)))\n",
    "        x = x.view(-1, 15*22*22)\n",
    "        x = F.relu(self.fc1(x))\n",
    "        x = F.relu(self.fc2(x))\n",
    "        x = F.relu(self.fc3(x))\n",
    "        x = self.fc4(x)\n",
    "        x = self.soft(x)\n",
    "        return x\n",
    "    "
   ]
  },
  {
   "cell_type": "code",
   "execution_count": null,
   "metadata": {},
   "outputs": [],
   "source": [
    "model = Net()\n",
    "optimizer = torch.optim.SGD(model.parameters(), lr = 0.001)\n",
    "loss_fn = nn.NLLLoss()\n",
    "t = trange(500, desc='Bar desc', leave=True)\n",
    "for i in t:\n",
    "    for i, data in enumerate(train_loader):\n",
    "        x,y = data\n",
    "        model.zero_grad()\n",
    "        print(x.shape)\n",
    "        output = model(x)\n",
    "        cat = torch.argmax(output, dim=1)\n",
    "        accuracy = (cat == y).float().mean()\n",
    "        loss = loss_fn(output, y)\n",
    "        loss.backward()\n",
    "        optimizer.step()\n",
    "        t.set_description(\"loss %.2f accuracy %.2f\" % (loss, accuracy))\n",
    "plt.ylim(-0.1, 1.1)\n",
    "plot(losses)\n",
    "plot(accuracies)"
   ]
  },
  {
   "cell_type": "code",
   "execution_count": null,
   "metadata": {},
   "outputs": [],
   "source": []
  },
  {
   "cell_type": "code",
   "execution_count": null,
   "metadata": {},
   "outputs": [],
   "source": []
  },
  {
   "cell_type": "code",
   "execution_count": null,
   "metadata": {},
   "outputs": [],
   "source": []
  },
  {
   "cell_type": "code",
   "execution_count": null,
   "metadata": {},
   "outputs": [],
   "source": []
  },
  {
   "cell_type": "code",
   "execution_count": null,
   "metadata": {},
   "outputs": [],
   "source": []
  },
  {
   "cell_type": "code",
   "execution_count": null,
   "metadata": {},
   "outputs": [],
   "source": []
  },
  {
   "cell_type": "code",
   "execution_count": null,
   "metadata": {},
   "outputs": [],
   "source": [
    "# class Net(nn.Module):\n",
    "#     def __init__(self):\n",
    "#         super(Net, self).__init__()\n",
    "#         self.conv1 = nn.Conv2d(3, 6, 5)\n",
    "#         self.conv2 = nn.Conv2d(6,16,5)\n",
    "#         self.pool = nn.MaxPool2d(2,2)\n",
    "#         self.fc1 = nn.Linear(16*22*22, 120)\n",
    "#         self.fc2 = nn.Linear(120, 84)\n",
    "#         self.fc3 = nn.Linear(84, 50)\n",
    "#         self.soft = nn.LogSoftmax(dim=1)\n",
    "    \n",
    "    \n",
    "#     def forward(self,x):\n",
    "#         x = self.pool(F.relu(self.conv1(x)))\n",
    "#         x = self.pool(F.relu(self.conv2(x)))\n",
    "#         x = x.view(x.size(0), 16*22*22)\n",
    "#         x = F.relu(self.fc1(x))\n",
    "#         x = F.relu(self.fc2(x))\n",
    "#         x = F.relu(self.fc3(x))\n",
    "#         x = self.soft(x)\n",
    "#         return x"
   ]
  },
  {
   "cell_type": "code",
   "execution_count": null,
   "metadata": {},
   "outputs": [],
   "source": []
  },
  {
   "cell_type": "code",
   "execution_count": null,
   "metadata": {},
   "outputs": [],
   "source": []
  },
  {
   "cell_type": "code",
   "execution_count": null,
   "metadata": {},
   "outputs": [],
   "source": [
    "# model = Net()\n",
    "# BS = 125\n",
    "# optimizer = torch.optim.SGD(model.parameters(), lr = 0.001)\n",
    "# num_samples = x_train.shape[0]\n",
    "# loss_fn = nn.NLLLoss()\n",
    "\n",
    "# inputs = np.copy(x_train)\n",
    "# targets = np.copy(y_train)\n",
    "\n",
    "# for epoch in range(1000):\n",
    "#     sample_indexes = np.random.randint(0, num_samples, size = BS)\n",
    "#     x = torch.Tensor(inputs[sample_indexes]).float()\n",
    "#     y = torch.Tensor(targets[sample_indexes]).long()\n",
    "#     model.zero_grad()\n",
    "#     output = model(x.permute(0, 3, 1, 2))\n",
    "#     loss = loss_fn(output, y)\n",
    "#     loss.backward()\n",
    "#     optimizer.step()"
   ]
  },
  {
   "cell_type": "code",
   "execution_count": null,
   "metadata": {},
   "outputs": [],
   "source": [
    "# x_test = torch.Tensor(x_test).float()\n",
    "# pred = torch.argmax(model(x_test.permute(0,3,1,2)), dim=-1)\n",
    "# torch.mean((pred == torch.Tensor(y_test)).float())"
   ]
  }
 ],
 "metadata": {
  "kernelspec": {
   "display_name": "Python 3",
   "language": "python",
   "name": "python3"
  },
  "language_info": {
   "codemirror_mode": {
    "name": "ipython",
    "version": 3
   },
   "file_extension": ".py",
   "mimetype": "text/x-python",
   "name": "python",
   "nbconvert_exporter": "python",
   "pygments_lexer": "ipython3",
   "version": "3.7.9"
  }
 },
 "nbformat": 4,
 "nbformat_minor": 4
}
